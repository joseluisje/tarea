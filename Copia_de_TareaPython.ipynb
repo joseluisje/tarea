{
  "nbformat": 4,
  "nbformat_minor": 0,
  "metadata": {
    "colab": {
      "name": "Copia de TareaPython.ipynb",
      "version": "0.3.2",
      "provenance": [],
      "collapsed_sections": [],
      "include_colab_link": true
    },
    "kernelspec": {
      "name": "python3",
      "display_name": "Python 3"
    }
  },
  "cells": [
    {
      "cell_type": "markdown",
      "metadata": {
        "id": "view-in-github",
        "colab_type": "text"
      },
      "source": [
        "[View in Colaboratory](https://colab.research.google.com/github/joseluisje/tarea/blob/master/Copia_de_TareaPython.ipynb)"
      ]
    },
    {
      "metadata": {
        "id": "SPgMf3tqKwwl",
        "colab_type": "text"
      },
      "cell_type": "markdown",
      "source": [
        "De le solución y convierta en código pyton los siguientes problemas. \n",
        "\n",
        "\n",
        "1. Escriba una función que calcula el ángulo entre dos vectores.\n",
        "2. Escriba una función que devuelva los 3 ángulos con respecto a los ejes x, y y z de un vector tridimencional.\n",
        "3. Escriba una función que calcule el producto vectorial entre dos vectores tridimensionales.\n",
        "4. Traduzca el diagrama de flujo mostrado en la imagen al lenguaje Python y describa lo que realiza. \n",
        "![alt text](http://isapedraza.web.cern.ch/isapedraza/tmpWork/FisicaComputacional/diagrama.png)\n",
        "\n",
        "5. Diseñar un algoritmo en python que imprima y sume una serie la serie de números 3,6,9,12,...,99\n",
        "6. Escribir un algoritmo en python que lea cuatro números y que al final escriba el mayor de los cuatro.\n",
        "7. Diseñar un algorimo  en pytohn para calcular la velocidad (en m/s) de los corredores de la carrera de 1.500 metros. La entrada consistirá en parejas de números (minutos y segundos) que dan el tiempo del corredos; por cada corredor, el algoritmo debe imprimir el tiempo en minutos y segundos, así como la velocidad media. \n",
        "  Ejemplo de entrada de datos: (3,53)(3,40)(3,46)(3,52)(4,0)(0,0). El último par de datos se utilizará como fin de entrada de datos. \n",
        " \n",
        "8. Escribir un algoritmo que calcule la superficie de un triángulo en función de la base y la altura. ($A= 1/2 *Base * Altura$)\n",
        " \n",
        "9. Un sistema de ecuaciones lineales \n",
        " \\begin{equation}\n",
        "ax + by = c\n",
        " \\end{equation}\n",
        "\\begin{equation}\n",
        "dx + ey = f\n",
        "\\end{equation}\n",
        " \n",
        " se puede resolver con las siguientes fórmulas: \n",
        "\\begin{equation}\n",
        "x = \\frac{ce-bf}{ae-bd}\n",
        "\\end{equation}\n",
        "\n",
        "\\begin{equation}\n",
        "y = \\frac{af-cd}{ae-bd}\n",
        "\\end{equation}\n",
        "\n",
        "\n",
        "10. Diseñar un programa en Python que lea los dos conjutnos de coeficientes (a,b y c; d,e y f) y visualice los valores de $x$ y $y$. \n",
        " \n",
        " 11. Diseñe un programa que grafique las siguietes funciones en una misma gráfica. En el rango de -10 a 15. \n",
        " \\begin{equation}\n",
        "f1(x) = 2x^2 + 5x - 2\n",
        "\\end{equation}\n",
        "\\begin{equation}\n",
        "f2(x) = 4x + 1\n",
        "\\end{equation}\n",
        "---\n",
        "\n",
        "\n",
        "\n",
        "---\n",
        "\n",
        "\n",
        "\n",
        " "
      ]
    },
    {
      "metadata": {
        "id": "TtULdNjllpHN",
        "colab_type": "code",
        "colab": {
          "base_uri": "https://localhost:8080/",
          "height": 204
        },
        "outputId": "4374ba23-d459-44a4-dd9d-ee292c85494c"
      },
      "cell_type": "code",
      "source": [
        "#1\n",
        "import math\n",
        "print(\"--PROGRAMA QUE OBTIENE EL ÁNGULO ENTRE DOS VECTORES X Y Y\")\n",
        "print(\"INTRODUCIR LOS COMPONENTES DEL VECTOR X\")\n",
        "x1=int(input(\"x1: \"))\n",
        "x2=int(input(\"x2: \"))\n",
        "x3=int(input(\"x3: \"))\n",
        "print(\"INTRODUCIR LOS COMPONENTES DEL VECTOR Y\")\n",
        "y1=int(input(\"y1: \"))\n",
        "y2=int(input(\"y2: \"))\n",
        "y3=int(input(\"y3: \"))\n",
        "a=x1*y1\n",
        "b=x2*y2\n",
        "c=x3*y3\n",
        "d=a+b+c\n",
        "e=x1**2+x2**2+x3**2\n",
        "f=y1**2+y2**2+y3**2\n",
        "g=math.sqrt(e)\n",
        "h=math.sqrt(f)\n",
        "i=g*h\n",
        "coss=float(d)/i\n",
        "an=math.acos(coss)\n",
        "print(\"El angulo en radianes es: \",an)\n",
        "ann=math.degrees(math.acos(coss))\n",
        "print(\"El angulo en grados es: \",ann)"
      ],
      "execution_count": 0,
      "outputs": [
        {
          "output_type": "stream",
          "text": [
            "--PROGRAMA QUE OBTIENE EL ÁNGULO ENTRE DOS VECTORES X Y Y\n",
            "INTRODUCIR LOS COMPONENTES DEL VECTOR X\n",
            "x1: 3\n",
            "x2: 4\n",
            "x3: 2\n",
            "INTRODUCIR LOS COMPONENTES DEL VECTOR Y\n",
            "y1: 6\n",
            "y2: 5\n",
            "y3: 8\n",
            "El angulo en radianes es:  0.4581072326527777\n",
            "El angulo en grados es:  26.24761099542186\n"
          ],
          "name": "stdout"
        }
      ]
    },
    {
      "metadata": {
        "id": "vNXM8nvJmZfx",
        "colab_type": "code",
        "colab": {
          "base_uri": "https://localhost:8080/",
          "height": 204
        },
        "outputId": "52cdbbf3-1fb5-4dda-c157-cf129e3a2778"
      },
      "cell_type": "code",
      "source": [
        "#2\n",
        "import math\n",
        "print(\"--PROGRAMA QUE OBTIENE EL ÁNGULO ENTRE UN VECTOR A Y LOS EJES X, Y Y Z\")\n",
        "print(\"INTRODUCIR LOS COMPONENTES DEL VECTOR A\")\n",
        "x1=int(input(\"a1: \"))\n",
        "x2=int(input(\"a2: \"))\n",
        "x3=int(input(\"a3: \"))\n",
        "m=x1**2+x2**2+x3**2\n",
        "g=math.sqrt(m)\n",
        "a=float(x1)/g\n",
        "b=float(x2)/g\n",
        "c=float(x3)/g\n",
        "aa=math.acos(a)\n",
        "bb=math.acos(b)\n",
        "cc=math.acos(c)\n",
        "aaa=math.degrees(math.acos(a))\n",
        "bbb=math.degrees(math.acos(b))\n",
        "ccc=math.degrees(math.acos(c))\n",
        "print(\"El angulo con respecto al eje x en radianes es: \",aa)\n",
        "print(\"El angulo con respecto al eje x en grados es: \",aaa)\n",
        "print(\"El angulo con respecto al eje y en radianes es: \",bb)\n",
        "print(\"El angulo con respecto al eje y en grados es: \",bbb)\n",
        "print(\"El angulo con respecto al eje z en radianes es: \",cc)\n",
        "print(\"El angulo con respecto al eje z en grados es: \",ccc)"
      ],
      "execution_count": 0,
      "outputs": [
        {
          "output_type": "stream",
          "text": [
            "--PROGRAMA QUE OBTIENE EL ÁNGULO ENTRE UN VECTOR A Y LOS EJES X, Y Y Z\n",
            "INTRODUCIR LOS COMPONENTES DEL VECTOR A\n",
            "a1: 4\n",
            "a2: 5\n",
            "a3: 8\n",
            "El angulo con respecto al eje x en radianes es:  1.169773711944817\n",
            "El angulo con respecto al eje x en grados es:  67.02309667979011\n",
            "El angulo con respecto al eje y en radianes es:  1.0610566479633896\n",
            "El angulo con respecto al eje y en grados es:  60.79406775260058\n",
            "El angulo con respecto al eje z en radianes es:  0.6749790247169083\n",
            "El angulo con respecto al eje z en grados es:  38.67344937613532\n"
          ],
          "name": "stdout"
        }
      ]
    },
    {
      "metadata": {
        "id": "DGwvwHONm74_",
        "colab_type": "code",
        "colab": {
          "base_uri": "https://localhost:8080/",
          "height": 289
        },
        "outputId": "cbb4a5d0-0f64-484c-852f-d0aee195b522"
      },
      "cell_type": "code",
      "source": [
        "#3\n",
        "import math\n",
        "print(\"--PROGRAMA QUE OBTIENE EL PRODUCTO VECTORIAL ENTRE DOS VECTORES A Y B\")\n",
        "print(\"INTRODUCIR LOS COMPONENTES DEL VECTOR A\")\n",
        "x1=int(input(\"a1: \"))\n",
        "x2=int(input(\"a2: \"))\n",
        "x3=int(input(\"a3: \"))\n",
        "print(\"INTRODUCIR LOS COMPONENTES DEL VECTOR B\")\n",
        "y1=int(input(\"b1: \"))\n",
        "y2=int(input(\"b2: \"))\n",
        "y3=int(input(\"b3: \"))\n",
        "a=x2*y3-x3*y2\n",
        "b=x3*y1-x1*y3\n",
        "c=x1*y2-x2*y1\n",
        "e=a**2+b**2+c**2\n",
        "f=math.sqrt(e)\n",
        "g=x1**2+x2**2+x3**2\n",
        "h=y1**2+y2**2+y3**2\n",
        "i=math.sqrt(g)\n",
        "j=math.sqrt(h)\n",
        "k=i*j\n",
        "l=float(f)/k\n",
        "m=math.asin(l)\n",
        "n=math.degrees(math.asin(l))\n",
        "print(\"Las componentes del vector resultante C es: \")\n",
        "print(\"c1\",a)\n",
        "print(\"c2\",b)\n",
        "print(\"c3\",c)\n",
        "print(\"Su modulo es: \",f)\n",
        "print(\"El angulo entre los vectores A y B en radianes es: \",m)\n",
        "print(\"El angulo entre los vectores A y B en grados es: \",n)"
      ],
      "execution_count": 0,
      "outputs": [
        {
          "output_type": "stream",
          "text": [
            "--PROGRAMA QUE OBTIENE EL PRODUCTO VECTORIAL ENTRE DOS VECTORES A Y B\n",
            "INTRODUCIR LOS COMPONENTES DEL VECTOR A\n",
            "a1: 3\n",
            "a2: 6\n",
            "a3: 7\n",
            "INTRODUCIR LOS COMPONENTES DEL VECTOR B\n",
            "b1: 2\n",
            "b2: 9\n",
            "b3: 3\n",
            "Las componentes del vector resultante C es: \n",
            "c1 -45\n",
            "c2 5\n",
            "c3 15\n",
            "Su modulo es:  47.69696007084728\n",
            "El angulo entre los vectores A y B en radianes es:  0.5321816374071376\n",
            "El angulo entre los vectores A y B en grados es:  30.49176175779048\n"
          ],
          "name": "stdout"
        }
      ]
    },
    {
      "metadata": {
        "id": "Zwl0vqx6oDdk",
        "colab_type": "code",
        "colab": {
          "base_uri": "https://localhost:8080/",
          "height": 51
        },
        "outputId": "0b3fbacc-3e99-44be-f62b-fd2a70544161"
      },
      "cell_type": "code",
      "source": [
        "#4\n",
        "#El programa imprime los números impares entre 1 y 5 que no son divisibles entre 3\n",
        "x=1\n",
        "while x<=5:\n",
        "  if x%3!=0:\n",
        "    print(x)\n",
        "  x=x+2"
      ],
      "execution_count": 0,
      "outputs": [
        {
          "output_type": "stream",
          "text": [
            "1\n",
            "5\n"
          ],
          "name": "stdout"
        }
      ]
    },
    {
      "metadata": {
        "id": "LAsIxbd-oldz",
        "colab_type": "code",
        "colab": {
          "base_uri": "https://localhost:8080/",
          "height": 612
        },
        "outputId": "ea988674-9606-4ed5-b42e-38ae8c661b77"
      },
      "cell_type": "code",
      "source": [
        "#5\n",
        "print(\"--PROGRAMA QUE IMPRIME LA SERIE 3, 6, 9,..., 97, 98, 99 Y LA SUMA DE TODOS SUS ELEMENTOS\")\n",
        "x=0\n",
        "y=x\n",
        "v=[]\n",
        "while y<=96:\n",
        "  y=y+3\n",
        "  print(y)\n",
        "  v.append(y)\n",
        "s=sum(v)\n",
        "print(\"La suma es: \",s)"
      ],
      "execution_count": 0,
      "outputs": [
        {
          "output_type": "stream",
          "text": [
            "--PROGRAMA QUE IMPRIME LA SERIE 3, 6, 9,..., 97, 98, 99 Y LA SUMA DE TODOS SUS ELEMENTOS\n",
            "3\n",
            "6\n",
            "9\n",
            "12\n",
            "15\n",
            "18\n",
            "21\n",
            "24\n",
            "27\n",
            "30\n",
            "33\n",
            "36\n",
            "39\n",
            "42\n",
            "45\n",
            "48\n",
            "51\n",
            "54\n",
            "57\n",
            "60\n",
            "63\n",
            "66\n",
            "69\n",
            "72\n",
            "75\n",
            "78\n",
            "81\n",
            "84\n",
            "87\n",
            "90\n",
            "93\n",
            "96\n",
            "99\n",
            "La suma es:  1683\n"
          ],
          "name": "stdout"
        }
      ]
    },
    {
      "metadata": {
        "id": "JU1xAPHPpHjJ",
        "colab_type": "code",
        "colab": {
          "base_uri": "https://localhost:8080/",
          "height": 119
        },
        "outputId": "ce7a93b2-306d-4947-bce0-dbcba64a2929"
      },
      "cell_type": "code",
      "source": [
        "#6\n",
        "print(\"--PROGRAMA QUE OBTIENE EL MAYOR NÚMERO DE 4 VALORES DE ENTRADA\")\n",
        "x=int(input(\"NUMERO 1: \"))\n",
        "y=int(input(\"NUMERO 2: \"))\n",
        "z=int(input(\"NUMERO 3: \"))\n",
        "w=int(input(\"NUMERO 4: \"))\n",
        "v=[x,y,z,w]\n",
        "maxi=max(v)\n",
        "print(\"El máximo es: \",maxi)"
      ],
      "execution_count": 0,
      "outputs": [
        {
          "output_type": "stream",
          "text": [
            "--PROGRAMA QUE IMPRIME IMPRIME EL MAYOR NÚMERO DE 4 VALORES DE ENTRADA\n",
            "NUMERO 1: 4\n",
            "NUMERO 2: 5\n",
            "NUMERO 3: 3\n",
            "NUMERO 4: 9\n",
            "El máximo es:  9\n"
          ],
          "name": "stdout"
        }
      ]
    },
    {
      "metadata": {
        "id": "g844tea-pkNA",
        "colab_type": "code",
        "colab": {
          "base_uri": "https://localhost:8080/",
          "height": 136
        },
        "outputId": "0bd70ddc-5aa8-47f0-c459-02582f83fdb0"
      },
      "cell_type": "code",
      "source": [
        "#7\n",
        "import numpy as np\n",
        "import re\n",
        "print(\"--PROGRAMA QUE IMPRIME EL TIEMPO DE CADA CORREDOR EN MINUTOS Y SEGUNDO ASÍ COMO SU VELOCIDAD MEDIA EN 1500 M\")\n",
        "n=input(\"Introducir el tiempo de cada corredor en minutos y segundos en el formado: (m1,s1)(m2,s2)...(mn,sn): \")\n",
        "a=[float(s) for s in re.findall('\\d+',n)] #Obtiene los valores numéricos de n y los convierte a float, después los mete a un vector a\n",
        "l = a[1::2] #Obtiene los valores con posición impar en el vector a, que son los segundos de cada corredor, los mete a un vector l\n",
        "f= a[0::2] #Obtiene los valores con posición par en el vector a, que son los minutos de cada corredor, los mete a un vector f\n",
        "d=[]\n",
        "for i in f: #Convierte los valores de los elementos de f a segundos (*60) para poder obtener el tiempo total posteriormente, los mete a un vector d\n",
        "  u=float(i)*60\n",
        "  d.append(u)\n",
        "q=[sum(x) for x in zip(d, l)] #Suma los elementos que tienen la misma posición en los vectores d y l, coloca los resultados (tiempos de cada corredor en segundos) en el vector q\n",
        "w=[]\n",
        "for i in q: #Para cada elemento de q obtiene la velocidad media en 1500 m y coloca los resultados (velocidades de cada corredor) en el vector w\n",
        "  v=1500/float(i)\n",
        "  w.append(v)\n",
        "print(\"MINUTOS / SEGUNDOS / VELOCIDAD MEDIA (M/S)\")\n",
        "resultados=np.column_stack((f,l,w)) #Imprime los valores de los vectores f (minutos de cada corredor), l (segundos de cada corredor), y w (velocidades de cada corredor) en forma de columna\n",
        "print(resultados)"
      ],
      "execution_count": 0,
      "outputs": [
        {
          "output_type": "stream",
          "text": [
            "--PROGRAMA QUE IMPRIME EL TIEMPO DE CADA CORREDOR EN MINUTOS Y SEGUNDO ASÍ COMO SU VELOCIDAD MEDIA EN 1500 M\n",
            "Introducir el tiempo de cada corredor en minutos y segundos en el formado: (m1,s1)(m2,s2)...(mn,sn): (4,5)(3,9)(1,0)(4,6)\n",
            "MINUTOS / SEGUNDOS / VELOCIDAD MEDIA (M/S)\n",
            "[[ 4.          5.          6.12244898]\n",
            " [ 3.          9.          7.93650794]\n",
            " [ 1.          0.         25.        ]\n",
            " [ 4.          6.          6.09756098]]\n"
          ],
          "name": "stdout"
        }
      ]
    },
    {
      "metadata": {
        "id": "7dgo8SHYpl5_",
        "colab_type": "code",
        "colab": {
          "base_uri": "https://localhost:8080/",
          "height": 85
        },
        "outputId": "95d6d3d0-8e5a-49f6-b7e8-e4cf9f3b088c"
      },
      "cell_type": "code",
      "source": [
        "#8\n",
        "print(\"--PROGRAMA QUE OBTIENE EL ÁREA DE UN TRIÁNGULO DADAS SU BASE Y SU ALTURA\")\n",
        "b=int(input(\"Introduzca la base del triángulo: \"))\n",
        "a=int(input(\"Introduzca la altura del triángulo: \"))\n",
        "p=a*b\n",
        "s=float(p)/2\n",
        "print(\"El área del triangulo es: \",s)"
      ],
      "execution_count": 0,
      "outputs": [
        {
          "output_type": "stream",
          "text": [
            "--PROGRAMA QUE OBTIENE EL ÁREA DE UN TRIÁNGULO DADAS SU BASE Y SU ALTURA\n",
            "Introduzca la base del triángulo: 3\n",
            "Introduzca la altura del triángulo: 7\n",
            "El área del triangulo es:  10.5\n"
          ],
          "name": "stdout"
        }
      ]
    },
    {
      "metadata": {
        "id": "-l3iVxVEqDj2",
        "colab_type": "code",
        "colab": {
          "base_uri": "https://localhost:8080/",
          "height": 238
        },
        "outputId": "3e671a32-0463-4e25-edab-cb667094e30e"
      },
      "cell_type": "code",
      "source": [
        "#9.a\n",
        "print(\"--PROGRAMA QUE OBTIENE EL VALOR DE DOS VARIABLES X Y Y DADOS LOS COEFICIENTES DE DOS SISTEMAS DE ECUACIONES LINEALES\")\n",
        "print(\"Para resolver un sistema de ecuaciones de la forma: \\n             ax + by = c \\n             dx + ey = f \\nes necesario conocer los valores a, b, c, d, e y f.\")\n",
        "a=int(input(\"Interte valor de a: \"))\n",
        "b=int(input(\"Interte valor de b: \"))\n",
        "c=int(input(\"Interte valor de c: \"))\n",
        "d=int(input(\"Interte valor de d: \"))\n",
        "e=int(input(\"Interte valor de e: \"))\n",
        "f=int(input(\"Interte valor de f: \"))\n",
        "w=c*e-b*f\n",
        "r=a*e-b*d\n",
        "t=a*f-c*d\n",
        "g=float(w)/r\n",
        "s=float(t)/r\n",
        "print(\"El valor de X es: \",g)\n",
        "print(\"El valor de Y es: \",s)"
      ],
      "execution_count": 0,
      "outputs": [
        {
          "output_type": "stream",
          "text": [
            "--PROGRAMA QUE OBTIENE EL VALOR DE DOS VARIABLES X Y Y DADOS LOS COEFICIENTES DE DOS SISTEMAS DE ECUACIONES\n",
            "Para resolver un sistema de ecuaciones de la forma: \n",
            "             ax + by = c \n",
            "             dx + ey = f \n",
            "es necesario conocer los valores a, b, c, d, e y f.\n",
            "Interte valor de a: 4\n",
            "Interte valor de b: 5\n",
            "Interte valor de c: 3\n",
            "Interte valor de d: 7\n",
            "Interte valor de e: 4\n",
            "Interte valor de f: 5\n",
            "El valor de X es:  0.6842105263157895\n",
            "El valor de Y es:  0.05263157894736842\n"
          ],
          "name": "stdout"
        }
      ]
    },
    {
      "metadata": {
        "id": "623VIb1wqtb0",
        "colab_type": "code",
        "colab": {
          "base_uri": "https://localhost:8080/",
          "height": 347
        },
        "outputId": "c344aede-eb32-40e3-ed7e-90675a662ed2"
      },
      "cell_type": "code",
      "source": [
        "#9.b\n",
        "import math\n",
        "import matplotlib.pyplot as plt\n",
        "x=[-10,]\n",
        "d=-10\n",
        "while d<=15:\n",
        "  x.append(d)\n",
        "  d=d+0.1\n",
        "ye=[]\n",
        "for i in x:\n",
        "  a=i**2\n",
        "  y=2*a+5*i-2\n",
        "  ye.append(y)\n",
        "yee=[]\n",
        "for i in x:\n",
        "  yes=4*i+1\n",
        "  yee.append(yes)\n",
        "plt.plot(x,ye)\n",
        "plt.plot(x,yee)\n",
        "plt.axhline(y=0, color='k')\n",
        "plt.axvline(x=0, color='k')\n",
        "plt.show()"
      ],
      "execution_count": 0,
      "outputs": [
        {
          "output_type": "display_data",
          "data": {
            "image/png": "[encoded data removed]",
            "text/plain": [
              "<matplotlib.figure.Figure at 0x7f7c2a6eabe0>"
            ]
          },
          "metadata": {
            "tags": []
          }
        }
      ]
    }
  ]
}